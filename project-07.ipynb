{
 "cells": [
  {
   "cell_type": "code",
   "execution_count": 2,
   "metadata": {},
   "outputs": [],
   "source": [
    "import pandas as pd\n",
    "import numpy as np\n",
    "from gensim.models import KeyedVectors\n",
    "from sklearn.feature_extraction.text import CountVectorizer\n",
    "from sklearn.linear_model import LogisticRegression\n",
    "from sklearn.metrics import classification_report\n",
    "from sklearn.dummy import DummyClassifier\n",
    "import nltk\n",
    "import string"
   ]
  },
  {
   "cell_type": "code",
   "execution_count": 3,
   "metadata": {},
   "outputs": [],
   "source": [
    "# nltk.download(\"all\")"
   ]
  },
  {
   "cell_type": "code",
   "execution_count": 4,
   "metadata": {},
   "outputs": [],
   "source": [
    "# artigo_treino = pd.read_csv(\"database-train-project-07.csv\")\n",
    "artigo_treino = pd.concat([pd.read_csv(f'database-train-project-07-part-{i+1}.csv') for i in range(3)])\n",
    "artigo_teste = pd.read_csv(\"database-test-project-07.csv\")"
   ]
  },
  {
   "cell_type": "code",
   "execution_count": 5,
   "metadata": {},
   "outputs": [
    {
     "data": {
      "text/html": [
       "<div>\n",
       "<style scoped>\n",
       "    .dataframe tbody tr th:only-of-type {\n",
       "        vertical-align: middle;\n",
       "    }\n",
       "\n",
       "    .dataframe tbody tr th {\n",
       "        vertical-align: top;\n",
       "    }\n",
       "\n",
       "    .dataframe thead th {\n",
       "        text-align: right;\n",
       "    }\n",
       "</style>\n",
       "<table border=\"1\" class=\"dataframe\">\n",
       "  <thead>\n",
       "    <tr style=\"text-align: right;\">\n",
       "      <th></th>\n",
       "      <th>title</th>\n",
       "      <th>text</th>\n",
       "      <th>date</th>\n",
       "      <th>category</th>\n",
       "      <th>subcategory</th>\n",
       "      <th>link</th>\n",
       "    </tr>\n",
       "  </thead>\n",
       "  <tbody>\n",
       "    <tr>\n",
       "      <th>0</th>\n",
       "      <td>Após polêmica, Marine Le Pen diz que abomina n...</td>\n",
       "      <td>A candidata da direita nacionalista à Presidên...</td>\n",
       "      <td>2017-04-28</td>\n",
       "      <td>mundo</td>\n",
       "      <td>NaN</td>\n",
       "      <td>http://www1.folha.uol.com.br/mundo/2017/04/187...</td>\n",
       "    </tr>\n",
       "    <tr>\n",
       "      <th>1</th>\n",
       "      <td>Macron e Le Pen vão ao 2º turno na França, em ...</td>\n",
       "      <td>O centrista independente Emmanuel Macron e a d...</td>\n",
       "      <td>2017-04-23</td>\n",
       "      <td>mundo</td>\n",
       "      <td>NaN</td>\n",
       "      <td>http://www1.folha.uol.com.br/mundo/2017/04/187...</td>\n",
       "    </tr>\n",
       "    <tr>\n",
       "      <th>2</th>\n",
       "      <td>Apesar de larga vitória nas legislativas, Macr...</td>\n",
       "      <td>As eleições legislativas deste domingo (19) na...</td>\n",
       "      <td>2017-06-19</td>\n",
       "      <td>mundo</td>\n",
       "      <td>NaN</td>\n",
       "      <td>http://www1.folha.uol.com.br/mundo/2017/06/189...</td>\n",
       "    </tr>\n",
       "    <tr>\n",
       "      <th>3</th>\n",
       "      <td>Governo antecipa balanço, e Alckmin anuncia qu...</td>\n",
       "      <td>O número de ocorrências de homicídios dolosos ...</td>\n",
       "      <td>2015-07-24</td>\n",
       "      <td>cotidiano</td>\n",
       "      <td>NaN</td>\n",
       "      <td>http://www1.folha.uol.com.br/cotidiano/2015/07...</td>\n",
       "    </tr>\n",
       "    <tr>\n",
       "      <th>4</th>\n",
       "      <td>Após queda em maio, a atividade econômica sobe...</td>\n",
       "      <td>A economia cresceu 0,25% no segundo trimestre,...</td>\n",
       "      <td>2017-08-17</td>\n",
       "      <td>mercado</td>\n",
       "      <td>NaN</td>\n",
       "      <td>http://www1.folha.uol.com.br/mercado/2017/08/1...</td>\n",
       "    </tr>\n",
       "  </tbody>\n",
       "</table>\n",
       "</div>"
      ],
      "text/plain": [
       "                                               title  \\\n",
       "0  Após polêmica, Marine Le Pen diz que abomina n...   \n",
       "1  Macron e Le Pen vão ao 2º turno na França, em ...   \n",
       "2  Apesar de larga vitória nas legislativas, Macr...   \n",
       "3  Governo antecipa balanço, e Alckmin anuncia qu...   \n",
       "4  Após queda em maio, a atividade econômica sobe...   \n",
       "\n",
       "                                                text        date   category  \\\n",
       "0  A candidata da direita nacionalista à Presidên...  2017-04-28      mundo   \n",
       "1  O centrista independente Emmanuel Macron e a d...  2017-04-23      mundo   \n",
       "2  As eleições legislativas deste domingo (19) na...  2017-06-19      mundo   \n",
       "3  O número de ocorrências de homicídios dolosos ...  2015-07-24  cotidiano   \n",
       "4  A economia cresceu 0,25% no segundo trimestre,...  2017-08-17    mercado   \n",
       "\n",
       "  subcategory                                               link  \n",
       "0         NaN  http://www1.folha.uol.com.br/mundo/2017/04/187...  \n",
       "1         NaN  http://www1.folha.uol.com.br/mundo/2017/04/187...  \n",
       "2         NaN  http://www1.folha.uol.com.br/mundo/2017/06/189...  \n",
       "3         NaN  http://www1.folha.uol.com.br/cotidiano/2015/07...  \n",
       "4         NaN  http://www1.folha.uol.com.br/mercado/2017/08/1...  "
      ]
     },
     "metadata": {},
     "output_type": "display_data"
    },
    {
     "data": {
      "text/html": [
       "<div>\n",
       "<style scoped>\n",
       "    .dataframe tbody tr th:only-of-type {\n",
       "        vertical-align: middle;\n",
       "    }\n",
       "\n",
       "    .dataframe tbody tr th {\n",
       "        vertical-align: top;\n",
       "    }\n",
       "\n",
       "    .dataframe thead th {\n",
       "        text-align: right;\n",
       "    }\n",
       "</style>\n",
       "<table border=\"1\" class=\"dataframe\">\n",
       "  <thead>\n",
       "    <tr style=\"text-align: right;\">\n",
       "      <th></th>\n",
       "      <th>title</th>\n",
       "      <th>text</th>\n",
       "      <th>date</th>\n",
       "      <th>category</th>\n",
       "      <th>subcategory</th>\n",
       "      <th>link</th>\n",
       "    </tr>\n",
       "  </thead>\n",
       "  <tbody>\n",
       "    <tr>\n",
       "      <th>0</th>\n",
       "      <td>Grandes irmãos</td>\n",
       "      <td>RIO DE JANEIRO - O Brasil, cada vez menos famí...</td>\n",
       "      <td>2017-03-06</td>\n",
       "      <td>colunas</td>\n",
       "      <td>ruycastro</td>\n",
       "      <td>http://www1.folha.uol.com.br/colunas/ruycastro...</td>\n",
       "    </tr>\n",
       "    <tr>\n",
       "      <th>1</th>\n",
       "      <td>Haddad congela orçamento e suspende emendas de...</td>\n",
       "      <td>O prefeito de São Paulo, Fernando Haddad (PT),...</td>\n",
       "      <td>2016-08-10</td>\n",
       "      <td>colunas</td>\n",
       "      <td>monicabergamo</td>\n",
       "      <td>http://www1.folha.uol.com.br/colunas/monicaber...</td>\n",
       "    </tr>\n",
       "    <tr>\n",
       "      <th>2</th>\n",
       "      <td>Proposta de reforma da Fifa tem a divulgação d...</td>\n",
       "      <td>A Fifa divulgou, nesta quinta (10), um relatór...</td>\n",
       "      <td>2015-10-09</td>\n",
       "      <td>esporte</td>\n",
       "      <td>NaN</td>\n",
       "      <td>http://www1.folha.uol.com.br/esporte/2015/09/1...</td>\n",
       "    </tr>\n",
       "    <tr>\n",
       "      <th>3</th>\n",
       "      <td>Mercado incipiente, internet das coisas conect...</td>\n",
       "      <td>Bueiros, coleiras, aparelhos hospitalares, ele...</td>\n",
       "      <td>2016-11-09</td>\n",
       "      <td>mercado</td>\n",
       "      <td>NaN</td>\n",
       "      <td>http://www1.folha.uol.com.br/mercado/2016/09/1...</td>\n",
       "    </tr>\n",
       "    <tr>\n",
       "      <th>4</th>\n",
       "      <td>Mortes: Psicanalista, estudou o autismo em cri...</td>\n",
       "      <td>Toda vez que o grupo de amigos de Silvana Rabe...</td>\n",
       "      <td>2017-02-07</td>\n",
       "      <td>cotidiano</td>\n",
       "      <td>NaN</td>\n",
       "      <td>http://www1.folha.uol.com.br/cotidiano/2017/07...</td>\n",
       "    </tr>\n",
       "  </tbody>\n",
       "</table>\n",
       "</div>"
      ],
      "text/plain": [
       "                                               title  \\\n",
       "0                                     Grandes irmãos   \n",
       "1  Haddad congela orçamento e suspende emendas de...   \n",
       "2  Proposta de reforma da Fifa tem a divulgação d...   \n",
       "3  Mercado incipiente, internet das coisas conect...   \n",
       "4  Mortes: Psicanalista, estudou o autismo em cri...   \n",
       "\n",
       "                                                text        date   category  \\\n",
       "0  RIO DE JANEIRO - O Brasil, cada vez menos famí...  2017-03-06    colunas   \n",
       "1  O prefeito de São Paulo, Fernando Haddad (PT),...  2016-08-10    colunas   \n",
       "2  A Fifa divulgou, nesta quinta (10), um relatór...  2015-10-09    esporte   \n",
       "3  Bueiros, coleiras, aparelhos hospitalares, ele...  2016-11-09    mercado   \n",
       "4  Toda vez que o grupo de amigos de Silvana Rabe...  2017-02-07  cotidiano   \n",
       "\n",
       "     subcategory                                               link  \n",
       "0      ruycastro  http://www1.folha.uol.com.br/colunas/ruycastro...  \n",
       "1  monicabergamo  http://www1.folha.uol.com.br/colunas/monicaber...  \n",
       "2            NaN  http://www1.folha.uol.com.br/esporte/2015/09/1...  \n",
       "3            NaN  http://www1.folha.uol.com.br/mercado/2016/09/1...  \n",
       "4            NaN  http://www1.folha.uol.com.br/cotidiano/2017/07...  "
      ]
     },
     "metadata": {},
     "output_type": "display_data"
    }
   ],
   "source": [
    "display(artigo_treino.head(), artigo_teste.head())"
   ]
  },
  {
   "cell_type": "code",
   "execution_count": 6,
   "metadata": {},
   "outputs": [
    {
     "name": "stdout",
     "output_type": "stream",
     "text": [
      "(90000, 6) (20513, 6)\n"
     ]
    }
   ],
   "source": [
    "print(artigo_treino.shape, artigo_teste.shape)"
   ]
  },
  {
   "cell_type": "code",
   "execution_count": 7,
   "metadata": {},
   "outputs": [
    {
     "data": {
      "text/html": [
       "<style>#sk-container-id-1 {color: black;}#sk-container-id-1 pre{padding: 0;}#sk-container-id-1 div.sk-toggleable {background-color: white;}#sk-container-id-1 label.sk-toggleable__label {cursor: pointer;display: block;width: 100%;margin-bottom: 0;padding: 0.3em;box-sizing: border-box;text-align: center;}#sk-container-id-1 label.sk-toggleable__label-arrow:before {content: \"▸\";float: left;margin-right: 0.25em;color: #696969;}#sk-container-id-1 label.sk-toggleable__label-arrow:hover:before {color: black;}#sk-container-id-1 div.sk-estimator:hover label.sk-toggleable__label-arrow:before {color: black;}#sk-container-id-1 div.sk-toggleable__content {max-height: 0;max-width: 0;overflow: hidden;text-align: left;background-color: #f0f8ff;}#sk-container-id-1 div.sk-toggleable__content pre {margin: 0.2em;color: black;border-radius: 0.25em;background-color: #f0f8ff;}#sk-container-id-1 input.sk-toggleable__control:checked~div.sk-toggleable__content {max-height: 200px;max-width: 100%;overflow: auto;}#sk-container-id-1 input.sk-toggleable__control:checked~label.sk-toggleable__label-arrow:before {content: \"▾\";}#sk-container-id-1 div.sk-estimator input.sk-toggleable__control:checked~label.sk-toggleable__label {background-color: #d4ebff;}#sk-container-id-1 div.sk-label input.sk-toggleable__control:checked~label.sk-toggleable__label {background-color: #d4ebff;}#sk-container-id-1 input.sk-hidden--visually {border: 0;clip: rect(1px 1px 1px 1px);clip: rect(1px, 1px, 1px, 1px);height: 1px;margin: -1px;overflow: hidden;padding: 0;position: absolute;width: 1px;}#sk-container-id-1 div.sk-estimator {font-family: monospace;background-color: #f0f8ff;border: 1px dotted black;border-radius: 0.25em;box-sizing: border-box;margin-bottom: 0.5em;}#sk-container-id-1 div.sk-estimator:hover {background-color: #d4ebff;}#sk-container-id-1 div.sk-parallel-item::after {content: \"\";width: 100%;border-bottom: 1px solid gray;flex-grow: 1;}#sk-container-id-1 div.sk-label:hover label.sk-toggleable__label {background-color: #d4ebff;}#sk-container-id-1 div.sk-serial::before {content: \"\";position: absolute;border-left: 1px solid gray;box-sizing: border-box;top: 0;bottom: 0;left: 50%;z-index: 0;}#sk-container-id-1 div.sk-serial {display: flex;flex-direction: column;align-items: center;background-color: white;padding-right: 0.2em;padding-left: 0.2em;position: relative;}#sk-container-id-1 div.sk-item {position: relative;z-index: 1;}#sk-container-id-1 div.sk-parallel {display: flex;align-items: stretch;justify-content: center;background-color: white;position: relative;}#sk-container-id-1 div.sk-item::before, #sk-container-id-1 div.sk-parallel-item::before {content: \"\";position: absolute;border-left: 1px solid gray;box-sizing: border-box;top: 0;bottom: 0;left: 50%;z-index: -1;}#sk-container-id-1 div.sk-parallel-item {display: flex;flex-direction: column;z-index: 1;position: relative;background-color: white;}#sk-container-id-1 div.sk-parallel-item:first-child::after {align-self: flex-end;width: 50%;}#sk-container-id-1 div.sk-parallel-item:last-child::after {align-self: flex-start;width: 50%;}#sk-container-id-1 div.sk-parallel-item:only-child::after {width: 0;}#sk-container-id-1 div.sk-dashed-wrapped {border: 1px dashed gray;margin: 0 0.4em 0.5em 0.4em;box-sizing: border-box;padding-bottom: 0.4em;background-color: white;}#sk-container-id-1 div.sk-label label {font-family: monospace;font-weight: bold;display: inline-block;line-height: 1.2em;}#sk-container-id-1 div.sk-label-container {text-align: center;}#sk-container-id-1 div.sk-container {/* jupyter's `normalize.less` sets `[hidden] { display: none; }` but bootstrap.min.css set `[hidden] { display: none !important; }` so we also need the `!important` here to be able to override the default hidden behavior on the sphinx rendered scikit-learn.org. See: https://github.com/scikit-learn/scikit-learn/issues/21755 */display: inline-block !important;position: relative;}#sk-container-id-1 div.sk-text-repr-fallback {display: none;}</style><div id=\"sk-container-id-1\" class=\"sk-top-container\"><div class=\"sk-text-repr-fallback\"><pre>CountVectorizer()</pre><b>In a Jupyter environment, please rerun this cell to show the HTML representation or trust the notebook. <br />On GitHub, the HTML representation is unable to render, please try loading this page with nbviewer.org.</b></div><div class=\"sk-container\" hidden><div class=\"sk-item\"><div class=\"sk-estimator sk-toggleable\"><input class=\"sk-toggleable__control sk-hidden--visually\" id=\"sk-estimator-id-1\" type=\"checkbox\" checked><label for=\"sk-estimator-id-1\" class=\"sk-toggleable__label sk-toggleable__label-arrow\">CountVectorizer</label><div class=\"sk-toggleable__content\"><pre>CountVectorizer()</pre></div></div></div></div></div>"
      ],
      "text/plain": [
       "CountVectorizer()"
      ]
     },
     "execution_count": 7,
     "metadata": {},
     "output_type": "execute_result"
    }
   ],
   "source": [
    "texto = [\"tenha um bom dia\", \"tenha um péssimo dia\", \"tenha um ótimo dia\", \"tenha um dia ruim\"]\n",
    "vetorizador = CountVectorizer()\n",
    "vetorizador.fit(texto)"
   ]
  },
  {
   "cell_type": "code",
   "execution_count": 8,
   "metadata": {},
   "outputs": [
    {
     "name": "stdout",
     "output_type": "stream",
     "text": [
      "{'tenha': 4, 'um': 5, 'bom': 0, 'dia': 1, 'péssimo': 2, 'ótimo': 6, 'ruim': 3}\n"
     ]
    }
   ],
   "source": [
    "print(vetorizador.vocabulary_)"
   ]
  },
  {
   "cell_type": "code",
   "execution_count": 9,
   "metadata": {},
   "outputs": [
    {
     "name": "stdout",
     "output_type": "stream",
     "text": [
      "[[1 0 0 0 0 0 0]]\n"
     ]
    }
   ],
   "source": [
    "vetor_bom = vetorizador.transform([\"bom\"])\n",
    "print(vetor_bom.toarray())"
   ]
  },
  {
   "cell_type": "code",
   "execution_count": 10,
   "metadata": {},
   "outputs": [
    {
     "name": "stdout",
     "output_type": "stream",
     "text": [
      "[[0 0 0 0 0 0 1]]\n"
     ]
    }
   ],
   "source": [
    "vetor_otimo = vetorizador.transform([\"ótimo\"])\n",
    "print(vetor_otimo.toarray())"
   ]
  },
  {
   "cell_type": "code",
   "execution_count": null,
   "metadata": {},
   "outputs": [],
   "source": [
    "with open(\"cbow_s300.txt\") as f:\n",
    "    for linha in range(30):\n",
    "        print(next(f))"
   ]
  },
  {
   "cell_type": "code",
   "execution_count": 12,
   "metadata": {},
   "outputs": [],
   "source": [
    "modelo = KeyedVectors.load_word2vec_format(\"cbow_s300.txt\")"
   ]
  },
  {
   "cell_type": "code",
   "execution_count": 13,
   "metadata": {},
   "outputs": [
    {
     "name": "stdout",
     "output_type": "stream",
     "text": [
      "[-1.49033e-01  1.26020e-01  2.17628e-01  1.82684e-01  1.65151e-01\n",
      " -1.59660e-01 -2.34411e-01  6.00570e-02  8.03680e-02  2.87578e-01\n",
      " -4.81100e-03 -5.68800e-02  2.15676e-01  8.65540e-02  1.25983e-01\n",
      "  3.36157e-01 -1.83254e-01 -1.18499e-01  1.13010e-02  1.03814e-01\n",
      "  9.37640e-02  2.90178e-01 -1.64395e-01 -1.13300e-02 -1.80676e-01\n",
      " -1.15820e-02  1.08728e-01  1.65898e-01  9.37900e-02  2.66767e-01\n",
      " -1.29890e-02  9.16030e-02  2.21292e-01 -1.36497e-01 -4.26350e-02\n",
      " -1.30038e-01  2.17067e-01 -1.01963e-01 -3.70960e-02  1.42155e-01\n",
      "  3.41109e-01  2.46560e-01  1.27458e-01  5.72360e-02 -1.47962e-01\n",
      " -1.60290e-02  1.86533e-01  7.71550e-02 -3.50024e-01 -4.06085e-01\n",
      "  1.67131e-01 -4.75230e-02  5.13780e-02 -1.28224e-01  1.06580e-02\n",
      " -2.92652e-01  1.40540e-01 -4.57049e-01  1.31094e-01  2.03234e-01\n",
      "  2.94019e-01  7.38370e-02  1.11554e-01 -1.64204e-01 -3.62020e-02\n",
      "  1.29522e-01 -1.28321e-01  1.37502e-01 -7.99200e-03 -5.07100e-03\n",
      " -2.86010e-02 -8.99040e-02  8.82800e-03 -8.27730e-02  6.91940e-02\n",
      " -2.70182e-01  5.47610e-02 -3.06060e-02  6.89880e-02  2.38759e-01\n",
      " -1.41775e-01  2.34763e-01 -2.23853e-01 -2.84994e-01  2.53245e-01\n",
      "  6.77170e-02 -4.39663e-01 -7.00270e-02  6.39150e-02 -9.67100e-02\n",
      " -2.18950e-01 -5.77910e-02 -1.82689e-01 -3.32202e-01 -7.83070e-02\n",
      "  7.74620e-02  8.82920e-02 -4.83618e-01 -1.77812e-01  5.64040e-02\n",
      "  1.50339e-01  8.73000e-02 -1.03121e-01  1.62065e-01  4.57940e-02\n",
      "  9.73590e-02  1.67230e-02  3.00791e-01 -6.49640e-02 -1.95840e-01\n",
      " -4.33790e-02 -9.46810e-02  3.73222e-01 -1.65359e-01  5.58780e-02\n",
      "  1.72660e-02 -3.16048e-01  9.24430e-02 -6.84540e-02 -3.57085e-01\n",
      " -1.69469e-01 -1.14090e-01  9.47230e-02  3.14999e-01  2.12717e-01\n",
      " -2.21540e-02  1.76870e-02  1.58473e-01 -1.39150e-02  1.23610e-02\n",
      " -4.13190e-02 -1.47159e-01 -1.00070e-02  3.41884e-01  1.16999e-01\n",
      " -5.01590e-02  7.88740e-02  6.27940e-02  2.73643e-01  1.46823e-01\n",
      " -1.68857e-01 -1.00014e-01 -5.41060e-02 -3.06130e-02 -8.85920e-02\n",
      " -6.19840e-02  1.21595e-01  1.13775e-01  3.97190e-02 -8.54000e-03\n",
      "  1.05670e-02  1.12375e-01  9.70000e-02  9.05850e-02  1.25026e-01\n",
      " -2.92209e-01  6.81330e-02  4.06070e-02  1.33042e-01 -9.77780e-02\n",
      " -3.26378e-01  9.71420e-02 -5.13600e-02  2.01450e-02  1.20182e-01\n",
      " -2.14210e-02 -1.30884e-01  9.52800e-02 -5.65320e-02 -8.35370e-02\n",
      " -2.53035e-01  9.18650e-02  7.89190e-02 -6.30710e-02 -1.64057e-01\n",
      "  8.31660e-02  1.42698e-01 -2.77053e-01  7.05810e-02 -1.37800e-02\n",
      " -2.74883e-01  3.02011e-01 -8.34330e-02 -1.14381e-01 -2.88826e-01\n",
      "  9.03960e-02  1.94704e-01 -1.57261e-01 -2.58910e-02  1.41321e-01\n",
      " -1.67231e-01 -2.91540e-02  8.03650e-02  1.27378e-01 -1.48120e-01\n",
      "  2.83291e-01 -2.65930e-02  2.15319e-01  3.35030e-02  6.47140e-02\n",
      "  4.20010e-02 -3.85537e-01 -2.67068e-01 -2.77017e-01 -1.82289e-01\n",
      " -1.18735e-01 -2.51480e-01 -1.83783e-01 -2.12362e-01  2.50214e-01\n",
      "  3.96240e-02  2.64830e-02  1.30810e-01 -1.38478e-01 -1.63040e-02\n",
      " -2.55850e-02  2.35141e-01 -8.80540e-02 -9.40650e-02  1.31790e-01\n",
      " -8.33330e-02 -2.40020e-02 -3.38183e-01  8.10370e-02 -1.68933e-01\n",
      "  1.92200e-03  9.34870e-02  6.58130e-02 -1.11925e-01  1.83907e-01\n",
      " -6.54900e-03  4.27730e-02  3.71566e-01 -3.08570e-02  1.99647e-01\n",
      "  1.25516e-01  1.38471e-01 -9.17400e-02 -2.27814e-01  8.27690e-02\n",
      " -2.94581e-01  9.56830e-02 -3.48070e-01  1.02342e-01 -8.05350e-02\n",
      "  2.34290e-02 -4.19860e-02  2.44763e-01  2.37160e-02 -2.23548e-01\n",
      " -9.26800e-03 -4.33650e-02 -1.12413e-01 -4.19178e-01  1.81267e-01\n",
      "  1.03648e-01  2.74945e-01 -9.23560e-02 -4.63300e-02 -2.06314e-01\n",
      "  4.81410e-02  2.64603e-01 -1.17113e-01  1.80097e-01  5.54220e-02\n",
      " -1.27460e-01 -1.60328e-01  1.02289e-01  4.09530e-02  1.25305e-01\n",
      "  1.53398e-01 -2.36950e-02  2.33967e-01  2.30250e-02 -1.40227e-01\n",
      "  3.16349e-01 -1.99592e-01  1.25398e-01  2.72858e-01  1.09793e-01\n",
      " -1.64379e-01  8.63630e-02  1.97445e-01 -2.18180e-02 -1.49784e-01\n",
      " -3.34461e-01 -4.61000e-04  1.92640e-02  2.11149e-01 -2.93349e-01\n",
      "  5.90160e-02  1.25044e-01  7.75570e-02 -2.82863e-01 -3.38890e-02\n",
      " -9.19950e-02 -1.43850e-01  1.45775e-01  1.04246e-01 -2.60548e-01]\n",
      "300\n"
     ]
    }
   ],
   "source": [
    "print(modelo.get_vector(\"china\"))\n",
    "print(len(modelo.get_vector(\"china\")))"
   ]
  },
  {
   "cell_type": "code",
   "execution_count": 14,
   "metadata": {},
   "outputs": [
    {
     "data": {
      "text/plain": [
       "[('utilização', 0.5903370976448059),\n",
       " ('extração', 0.5873986482620239),\n",
       " ('explo-ração', 0.5665537714958191),\n",
       " ('extracção', 0.5582947134971619),\n",
       " ('explora-ção', 0.5430071949958801),\n",
       " ('produção', 0.5425505042076111),\n",
       " ('mineração', 0.5418317317962646),\n",
       " ('produ-ção', 0.5407923460006714),\n",
       " ('utiliza-ção', 0.5330908894538879),\n",
       " ('ex-ploração', 0.5196225643157959)]"
      ]
     },
     "execution_count": 14,
     "metadata": {},
     "output_type": "execute_result"
    }
   ],
   "source": [
    "modelo.most_similar(\"exploração\")"
   ]
  },
  {
   "cell_type": "code",
   "execution_count": 15,
   "metadata": {},
   "outputs": [
    {
     "data": {
      "text/plain": [
       "[('narcotráfico', 0.6955375671386719),\n",
       " ('racismo', 0.631608247756958),\n",
       " ('extremismo', 0.6127354502677917),\n",
       " ('proteccionismo', 0.6013616919517517),\n",
       " ('separatismo', 0.5967010259628296),\n",
       " ('machismo', 0.5779089331626892),\n",
       " ('terro-rismo', 0.5756277441978455),\n",
       " ('anti-semitismo', 0.5740683078765869),\n",
       " ('cibercrime', 0.5725964903831482),\n",
       " ('integrismo', 0.5455625057220459)]"
      ]
     },
     "execution_count": 15,
     "metadata": {},
     "output_type": "execute_result"
    }
   ],
   "source": [
    "modelo.most_similar(\"terrorismo\")"
   ]
  },
  {
   "cell_type": "code",
   "execution_count": 16,
   "metadata": {},
   "outputs": [
    {
     "data": {
      "text/plain": [
       "[('promo-ção', 0.581206738948822),\n",
       " ('revolucão', 0.5804876089096069),\n",
       " ('nobreza', 0.5793145298957825),\n",
       " ('civilisação', 0.5752741098403931),\n",
       " ('aristocracia', 0.5738468766212463),\n",
       " ('metrópole', 0.5633983612060547),\n",
       " ('esphera', 0.5575718283653259),\n",
       " ('franco-maçonaria', 0.550400972366333),\n",
       " ('produção', 0.5451053977012634),\n",
       " ('construcção', 0.5450544953346252)]"
      ]
     },
     "execution_count": 16,
     "metadata": {},
     "output_type": "execute_result"
    }
   ],
   "source": [
    "modelo.most_similar(positive=[\"burguesia\", \"exploração\"])"
   ]
  },
  {
   "cell_type": "code",
   "execution_count": 17,
   "metadata": {},
   "outputs": [
    {
     "data": {
      "text/plain": [
       "[('estrelas', 0.5497430562973022),\n",
       " ('plêiades', 0.379197895526886),\n",
       " ('colinas', 0.3746805489063263),\n",
       " ('trovoadas', 0.3737032413482666),\n",
       " ('sombras', 0.3734194040298462),\n",
       " ('pombas', 0.3726757764816284),\n",
       " ('corredoras', 0.3640727400779724),\n",
       " ('cigarras', 0.36065393686294556),\n",
       " ('galáxias', 0.35754910111427307),\n",
       " ('luas', 0.3575345277786255)]"
      ]
     },
     "execution_count": 17,
     "metadata": {},
     "output_type": "execute_result"
    }
   ],
   "source": [
    "# nuvens -> nuvem : estrelas -> estrela\n",
    "# nuvens + estrela - nuvem ≅ estrelas\n",
    "\n",
    "modelo.most_similar(positive=[\"nuvens\", \"estrela\"], negative=[\"nuvem\"])"
   ]
  },
  {
   "cell_type": "code",
   "execution_count": 18,
   "metadata": {},
   "outputs": [
    {
     "data": {
      "text/plain": [
       "[('professora', 0.6192208528518677),\n",
       " ('aluna', 0.5449554324150085),\n",
       " ('esposa', 0.4978231191635132),\n",
       " ('ex-aluna', 0.4884248375892639),\n",
       " ('namorada', 0.4737858474254608),\n",
       " ('enfermeira', 0.4728143513202667),\n",
       " ('filha', 0.4673738479614258),\n",
       " ('irmã', 0.45845916867256165),\n",
       " ('ex-namorada', 0.45824769139289856),\n",
       " ('ex-professora', 0.45104706287384033)]"
      ]
     },
     "execution_count": 18,
     "metadata": {},
     "output_type": "execute_result"
    }
   ],
   "source": [
    "modelo.most_similar(positive=[\"professor\", \"mulher\"], negative=[\"homem\"])"
   ]
  },
  {
   "cell_type": "code",
   "execution_count": 19,
   "metadata": {},
   "outputs": [
    {
     "data": {
      "text/plain": [
       "[('enfermeira', 0.5567789673805237),\n",
       " ('esposa', 0.540894627571106),\n",
       " ('mãe', 0.5147395730018616),\n",
       " ('filha', 0.5052310824394226),\n",
       " ('namorada', 0.4970565736293793),\n",
       " ('filhinha', 0.4967272877693176),\n",
       " ('irmã', 0.49583038687705994),\n",
       " ('parenta', 0.4849744439125061),\n",
       " ('sobrinha', 0.4843062460422516),\n",
       " ('babá', 0.48186036944389343)]"
      ]
     },
     "execution_count": 19,
     "metadata": {},
     "output_type": "execute_result"
    }
   ],
   "source": [
    "modelo.most_similar(positive=[\"medico\", \"mulher\"], negative=[\"homem\"])"
   ]
  },
  {
   "cell_type": "code",
   "execution_count": 20,
   "metadata": {},
   "outputs": [
    {
     "data": {
      "text/plain": [
       "[('esquerdistas', 0.3639519214630127),\n",
       " ('proletários', 0.3603123724460602),\n",
       " ('aristocratas', 0.35662156343460083),\n",
       " ('fidalgos', 0.3546915650367737),\n",
       " ('falcões', 0.3528881072998047),\n",
       " ('maçons', 0.34391745924949646),\n",
       " ('brujah', 0.3401685357093811),\n",
       " ('rakshasa', 0.33899348974227905),\n",
       " ('monárquicos', 0.33801180124282837),\n",
       " ('reinóis', 0.3376038372516632)]"
      ]
     },
     "execution_count": 20,
     "metadata": {},
     "output_type": "execute_result"
    }
   ],
   "source": [
    "modelo.most_similar(positive=[\"burgueses\", \"proletário\"], negative=[\"burgues\"])"
   ]
  },
  {
   "cell_type": "code",
   "execution_count": 21,
   "metadata": {},
   "outputs": [
    {
     "data": {
      "text/plain": [
       "0    Após polêmica, Marine Le Pen diz que abomina n...\n",
       "0    Acesso de caminhões ao porto de Santos é liber...\n",
       "0    Tropas do México são criticadas por alta letal...\n",
       "Name: title, dtype: object"
      ]
     },
     "execution_count": 21,
     "metadata": {},
     "output_type": "execute_result"
    }
   ],
   "source": [
    "artigo_treino[\"title\"][0]"
   ]
  },
  {
   "cell_type": "code",
   "execution_count": 22,
   "metadata": {},
   "outputs": [],
   "source": [
    "def tokenizador(texto):\n",
    "    texto = texto.lower()\n",
    "    lista_alfanumerico = []\n",
    "    for token_valido in nltk.word_tokenize(texto):\n",
    "        if token_valido in string.punctuation: continue\n",
    "        lista_alfanumerico.append(token_valido)\n",
    "    return lista_alfanumerico"
   ]
  },
  {
   "cell_type": "code",
   "execution_count": 23,
   "metadata": {},
   "outputs": [
    {
     "data": {
      "text/plain": [
       "['exemplo', 'de', 'texto', 'números', '1234']"
      ]
     },
     "execution_count": 23,
     "metadata": {},
     "output_type": "execute_result"
    }
   ],
   "source": [
    "tokenizador(\"Exemplo de Texto: números 1234!\")"
   ]
  },
  {
   "cell_type": "code",
   "execution_count": 24,
   "metadata": {},
   "outputs": [],
   "source": [
    "def combinacao_de_vetores_por_soma(palavras_numeros):\n",
    "    vetor_resultante = np.zeros(300)\n",
    "    for pn in palavras_numeros:\n",
    "        try:\n",
    "            vetor_resultante += modelo.get_vector(pn)\n",
    "        except KeyError:\n",
    "            if pn.isnumeric():\n",
    "                pn = \"0\"*len(pn)\n",
    "                vetor_resultante += modelo.get_vector(pn)\n",
    "            else:\n",
    "                vetor_resultante += modelo.get_vector(\"unknown\")\n",
    "    return vetor_resultante"
   ]
  },
  {
   "cell_type": "code",
   "execution_count": 25,
   "metadata": {},
   "outputs": [
    {
     "name": "stdout",
     "output_type": "stream",
     "text": [
      "300\n",
      "[-3.04259006e-01  6.55639999e-01  5.21179996e-02  5.17665997e-01\n",
      " -1.07712980e-01 -3.27833997e-01  9.27033972e-01  2.81943999e-01\n",
      " -2.92296004e-01 -2.34025998e-01  9.93380990e-01  3.82276000e-01\n",
      "  1.22120000e-01  1.93734999e-01 -2.56699938e-02 -1.70376004e-01\n",
      " -7.13159971e-01  1.21888004e-01  1.37869003e-01 -3.00215006e-01\n",
      " -6.19313980e-01  6.51140064e-02 -7.48070022e-02  2.07266010e-01\n",
      " -6.47949986e-02  3.12579949e-02 -3.26124017e-01  2.17761002e-01\n",
      " -6.97480105e-02 -8.89059976e-02  3.77242012e-01 -9.07079950e-02\n",
      "  1.36585999e-01  1.21728002e-01  5.59649952e-02  2.56763998e-01\n",
      "  1.39171002e-01  6.79419979e-01 -1.94598000e-01  1.68881997e-01\n",
      " -2.22076008e-01  2.00605018e-01  3.04152008e-01  1.60000011e-01\n",
      "  5.75780030e-02  3.92622991e-01  2.33315998e-01  8.26940015e-02\n",
      " -2.25989986e-02  2.71428003e-01 -5.67320064e-02  3.59692995e-01\n",
      "  7.94669874e-02  1.35235000e-01 -4.36902004e-01  1.84460001e-01\n",
      "  1.00193996e-01  4.37332992e-01 -3.89463983e-01 -3.39690000e-02\n",
      "  4.99659888e-02  3.08551002e-01  3.77195984e-01 -4.59333003e-01\n",
      "  3.62515999e-01 -2.44990140e-02  2.53949996e-01  2.60689929e-02\n",
      " -1.22447997e-01 -3.11450001e-01 -1.18293997e-01 -2.93018010e-01\n",
      " -2.32499973e-02  2.36107007e-01 -4.74099964e-02  2.13354003e-01\n",
      " -3.31645999e-01 -1.68376997e-01  2.18366005e-01 -4.34046999e-01\n",
      " -2.57089995e-02 -3.20485000e-01  1.44466995e-01 -3.14342988e-01\n",
      "  1.50164005e-01 -6.41274005e-01 -6.38837999e-01  1.04790997e-01\n",
      "  2.36025989e-01 -1.30499989e-01  6.76690005e-02  2.38456003e-01\n",
      " -1.91878995e-01  4.00277007e-01  5.37279919e-02 -2.72932003e-01\n",
      "  4.84599546e-03  2.37270003e-01 -2.07168001e-01 -4.39150000e-01\n",
      "  4.73244991e-01 -3.69820048e-02  6.70099899e-03 -5.70395000e-01\n",
      " -2.26843001e-01 -3.10853999e-01  1.48458004e-01 -2.25578003e-01\n",
      " -1.69064000e-01 -1.57363004e-01  7.80409984e-02  2.06034997e-01\n",
      "  5.54432977e-01 -9.41410031e-02  4.85187994e-01 -2.02278006e-01\n",
      " -5.03570979e-01  4.70309984e-02  2.01322992e-01 -6.69289827e-02\n",
      " -7.71699846e-03 -1.81754999e-01  3.26685004e-01 -4.32390068e-02\n",
      "  2.60620005e-01 -5.70606999e-01 -4.15744012e-01  1.74260002e-01\n",
      " -4.22064008e-01  1.95052993e-01  2.82528999e-01 -6.43730080e-02\n",
      "  2.86360038e-02  3.18240997e-01  2.64281996e-01 -3.37748013e-01\n",
      "  3.46926000e-01 -3.15567993e-01  7.35229013e-01 -1.41468003e-01\n",
      "  1.57894004e-01  7.06702985e-01 -1.71909987e-01  3.18673015e-01\n",
      "  7.81969875e-02  3.87042001e-01  1.40910007e-01  2.46671997e-01\n",
      "  3.60345989e-01 -4.49539952e-02  6.65570050e-02  4.06342015e-01\n",
      "  1.50749998e-01 -5.96650094e-02  3.48992646e-04 -5.04235998e-01\n",
      " -3.98830045e-02  2.46386005e-01 -1.22265983e-01  3.70877005e-01\n",
      "  3.69680002e-02 -1.29900500e-03  1.25597995e-01 -1.68683000e-01\n",
      " -3.05716999e-01 -8.68000090e-04  2.25320996e-01  1.97360002e-01\n",
      " -3.48449998e-01 -1.02640027e-02 -2.10500002e-01 -3.64020996e-01\n",
      "  9.25089980e-02 -4.86299489e-03  1.06062989e-01 -3.73926993e-01\n",
      "  5.33589988e-01  4.13469993e-01 -3.78475983e-01 -1.82580004e-01\n",
      "  1.29059963e-02 -2.03111988e-01  1.08007997e-01  5.75649850e-02\n",
      " -3.23657986e-01 -1.44622987e-01 -5.19420058e-02 -7.48859942e-02\n",
      " -5.47045004e-01  8.62240995e-01  9.92790088e-02  7.73219988e-02\n",
      " -9.45179909e-02  1.64067008e-01 -2.89109945e-02  3.27203015e-01\n",
      " -2.63768986e-01 -4.58920982e-01  1.75588012e-01 -3.78767997e-01\n",
      "  1.35669991e-01 -9.11610126e-02 -3.78830008e-01  5.63369989e-02\n",
      " -3.92917003e-01 -1.78388994e-01 -2.90474996e-01  5.75769842e-02\n",
      " -2.02934006e-01  8.06257978e-01  8.40340070e-02 -9.22069922e-02\n",
      "  3.88339002e-01  1.20261002e-01 -1.45560000e-02 -7.00127000e-01\n",
      "  2.11040005e-02 -2.24859005e-01 -4.66286011e-01  7.14620015e-02\n",
      " -1.21032994e-01  1.24607000e-01  1.45306993e-01 -1.05546992e-01\n",
      "  6.12813000e-01 -3.21015998e-01 -2.33200982e-01 -1.13911007e-01\n",
      " -2.05815993e-01 -2.55918004e-01  2.94195987e-01 -1.10337999e-01\n",
      "  3.15213997e-01 -1.69786005e-01 -5.93609996e-02 -3.19100987e-01\n",
      " -3.25462001e-01  1.32511006e-01 -2.05314003e-01 -4.38700002e-01\n",
      "  2.14694001e-01 -9.41220075e-02  3.81769970e-02 -3.64197992e-01\n",
      "  3.80636999e-01 -3.74805998e-01 -2.36890074e-02 -3.40260990e-01\n",
      "  3.78369985e-02 -8.57710131e-02 -4.35387998e-01  1.97094001e-01\n",
      "  4.56127005e-01  1.17252009e-01 -1.21549999e-01  1.76521994e-01\n",
      "  3.90662003e-01  1.25021987e-01  3.20539990e-01 -6.81570005e-01\n",
      " -3.28249998e-01 -7.74140060e-02  8.18610098e-02 -3.34550999e-01\n",
      " -2.65258007e-01 -3.71239992e-01  5.28056990e-01  5.52580040e-02\n",
      "  2.74424993e-01 -2.50940986e-01  3.54907007e-01 -3.73211008e-01\n",
      "  3.63882992e-01  1.35991998e-01  4.32899967e-02 -1.74444004e-01\n",
      "  3.88031997e-01 -9.03339926e-02  3.53211008e-01  4.41605994e-01\n",
      "  3.46906982e-01  1.68818998e-01  8.30240026e-02  2.05738997e-01\n",
      "  4.88796003e-01 -2.14472008e-01  9.58943985e-01 -1.07760000e+00\n",
      " -8.27902013e-01 -1.65219959e-02  3.72885987e-01  5.24493006e-01\n",
      "  1.04764991e-01 -4.19328973e-01  1.56200008e-01  3.82982999e-01\n",
      "  3.56429011e-01  2.01651000e-01 -2.13816006e-01  6.56072002e-01]\n"
     ]
    }
   ],
   "source": [
    "frase_teste = tokenizador(\"Exemplo de texto: 123.\")\n",
    "vetor_teste = combinacao_de_vetores_por_soma(frase_teste)\n",
    "print(len(vetor_teste))\n",
    "print(vetor_teste)"
   ]
  },
  {
   "cell_type": "code",
   "execution_count": 26,
   "metadata": {},
   "outputs": [],
   "source": [
    "def matriz_vetores(textos):\n",
    "    x = len(textos)\n",
    "    y = 300\n",
    "    matriz = np.zeros((x,y))\n",
    "\n",
    "    for i in range(x):\n",
    "        titulo_tokenizado = tokenizador(textos.iloc[i])\n",
    "        matriz[i] = combinacao_de_vetores_por_soma(titulo_tokenizado)\n",
    "\n",
    "    return matriz"
   ]
  },
  {
   "cell_type": "code",
   "execution_count": 27,
   "metadata": {},
   "outputs": [
    {
     "name": "stdout",
     "output_type": "stream",
     "text": [
      "(90000, 300)\n"
     ]
    }
   ],
   "source": [
    "matriz_vetores_treino = matriz_vetores(artigo_treino[\"title\"])\n",
    "print(matriz_vetores_treino.shape)"
   ]
  },
  {
   "cell_type": "code",
   "execution_count": 28,
   "metadata": {},
   "outputs": [
    {
     "name": "stdout",
     "output_type": "stream",
     "text": [
      "(20513, 300)\n"
     ]
    }
   ],
   "source": [
    "matriz_vetores_teste = matriz_vetores(artigo_teste[\"title\"])\n",
    "print(matriz_vetores_teste.shape)"
   ]
  },
  {
   "cell_type": "code",
   "execution_count": 29,
   "metadata": {},
   "outputs": [
    {
     "data": {
      "text/plain": [
       "array([118])"
      ]
     },
     "execution_count": 29,
     "metadata": {},
     "output_type": "execute_result"
    }
   ],
   "source": [
    "LR = LogisticRegression(max_iter=200)\n",
    "LR.fit(matriz_vetores_treino, artigo_treino[\"category\"])\n",
    "LR.n_iter_"
   ]
  },
  {
   "cell_type": "code",
   "execution_count": 30,
   "metadata": {},
   "outputs": [
    {
     "name": "stdout",
     "output_type": "stream",
     "text": [
      "Acurácia do modelo: 79.58%\n"
     ]
    }
   ],
   "source": [
    "score = LR.score(matriz_vetores_teste, artigo_teste[\"category\"])\n",
    "print(f\"Acurácia do modelo: {score*100:.2f}%\")"
   ]
  },
  {
   "cell_type": "code",
   "execution_count": 31,
   "metadata": {},
   "outputs": [
    {
     "data": {
      "text/plain": [
       "array(['mundo', 'cotidiano', 'mercado', 'esporte', 'ilustrada', 'colunas'],\n",
       "      dtype=object)"
      ]
     },
     "execution_count": 31,
     "metadata": {},
     "output_type": "execute_result"
    }
   ],
   "source": [
    "artigo_treino[\"category\"].unique()"
   ]
  },
  {
   "cell_type": "code",
   "execution_count": 32,
   "metadata": {},
   "outputs": [
    {
     "name": "stdout",
     "output_type": "stream",
     "text": [
      "              precision    recall  f1-score   support\n",
      "\n",
      "     colunas       0.86      0.71      0.78      6103\n",
      "   cotidiano       0.61      0.79      0.69      1698\n",
      "     esporte       0.92      0.88      0.90      4663\n",
      "   ilustrada       0.13      0.88      0.23       131\n",
      "     mercado       0.84      0.79      0.81      5867\n",
      "       mundo       0.74      0.86      0.79      2051\n",
      "\n",
      "    accuracy                           0.80     20513\n",
      "   macro avg       0.68      0.82      0.70     20513\n",
      "weighted avg       0.83      0.80      0.81     20513\n",
      "\n"
     ]
    }
   ],
   "source": [
    "label_prevista = LR.predict(matriz_vetores_teste)\n",
    "CR = classification_report(artigo_teste[\"category\"], label_prevista)\n",
    "print(CR)"
   ]
  },
  {
   "cell_type": "code",
   "execution_count": 33,
   "metadata": {},
   "outputs": [
    {
     "name": "stdout",
     "output_type": "stream",
     "text": [
      "              precision    recall  f1-score   support\n",
      "\n",
      "     colunas       0.29      0.16      0.21      6103\n",
      "   cotidiano       0.08      0.16      0.11      1698\n",
      "     esporte       0.23      0.17      0.19      4663\n",
      "   ilustrada       0.01      0.15      0.01       131\n",
      "     mercado       0.28      0.16      0.20      5867\n",
      "       mundo       0.10      0.17      0.12      2051\n",
      "\n",
      "    accuracy                           0.16     20513\n",
      "   macro avg       0.16      0.16      0.14     20513\n",
      "weighted avg       0.24      0.16      0.19     20513\n",
      "\n"
     ]
    }
   ],
   "source": [
    "DC = DummyClassifier(strategy=\"stratified\")\n",
    "DC.fit(matriz_vetores_treino, artigo_treino[\"category\"])\n",
    "label_prevista_dummy = DC.predict(matriz_vetores_teste)\n",
    "CR_dummy = classification_report(artigo_teste[\"category\"], label_prevista_dummy)\n",
    "print(CR_dummy)"
   ]
  },
  {
   "cell_type": "code",
   "execution_count": 34,
   "metadata": {},
   "outputs": [],
   "source": [
    "modelo_skipgram = KeyedVectors.load_word2vec_format(\"skip_s300.txt\")"
   ]
  },
  {
   "cell_type": "code",
   "execution_count": 35,
   "metadata": {},
   "outputs": [],
   "source": [
    "def combinacao_de_vetores_por_soma_skipgram(palavras_numeros):\n",
    "    vetor_resultante = np.zeros(300)\n",
    "    for pn in palavras_numeros:\n",
    "        try:\n",
    "            vetor_resultante += modelo_skipgram.get_vector(pn)\n",
    "        except KeyError:\n",
    "            if pn.isnumeric():\n",
    "                pn = \"0\"*len(pn)\n",
    "                vetor_resultante += modelo_skipgram.get_vector(pn)\n",
    "            else:\n",
    "                vetor_resultante += modelo_skipgram.get_vector(\"unknown\")\n",
    "    return vetor_resultante"
   ]
  },
  {
   "cell_type": "code",
   "execution_count": 36,
   "metadata": {},
   "outputs": [],
   "source": [
    "def matriz_vetores_skipgram(textos):\n",
    "    x = len(textos)\n",
    "    y = 300\n",
    "    matriz = np.zeros((x,y))\n",
    "\n",
    "    for i in range(x):\n",
    "        titulo_tokenizado = tokenizador(textos.iloc[i])\n",
    "        matriz[i] = combinacao_de_vetores_por_soma_skipgram(titulo_tokenizado)\n",
    "\n",
    "    return matriz"
   ]
  },
  {
   "cell_type": "code",
   "execution_count": 37,
   "metadata": {},
   "outputs": [],
   "source": [
    "matriz_vetores_treino_skipgram = matriz_vetores_skipgram(artigo_treino[\"title\"])"
   ]
  },
  {
   "cell_type": "code",
   "execution_count": 38,
   "metadata": {},
   "outputs": [],
   "source": [
    "matriz_vetores_teste_skipgram = matriz_vetores_skipgram(artigo_teste[\"title\"])"
   ]
  },
  {
   "cell_type": "code",
   "execution_count": 40,
   "metadata": {},
   "outputs": [
    {
     "name": "stdout",
     "output_type": "stream",
     "text": [
      "--------|--------SKIP-GRAM CR:--------|--------               precision    recall  f1-score   support\n",
      "\n",
      "     colunas       0.86      0.72      0.78      6103\n",
      "   cotidiano       0.63      0.81      0.70      1698\n",
      "     esporte       0.93      0.89      0.91      4663\n",
      "   ilustrada       0.15      0.91      0.26       131\n",
      "     mercado       0.84      0.81      0.83      5867\n",
      "       mundo       0.76      0.86      0.80      2051\n",
      "\n",
      "    accuracy                           0.81     20513\n",
      "   macro avg       0.69      0.83      0.71     20513\n",
      "weighted avg       0.84      0.81      0.82     20513\n",
      "\n",
      "SKIP-GRAM CR:               precision    recall  f1-score   support\n",
      "\n",
      "     colunas       0.86      0.71      0.78      6103\n",
      "   cotidiano       0.61      0.79      0.69      1698\n",
      "     esporte       0.92      0.88      0.90      4663\n",
      "   ilustrada       0.13      0.88      0.23       131\n",
      "     mercado       0.84      0.79      0.81      5867\n",
      "       mundo       0.74      0.86      0.79      2051\n",
      "\n",
      "    accuracy                           0.80     20513\n",
      "   macro avg       0.68      0.82      0.70     20513\n",
      "weighted avg       0.83      0.80      0.81     20513\n",
      "\n"
     ]
    }
   ],
   "source": [
    "LR_skipgram = LogisticRegression(max_iter=1000)\n",
    "LR_skipgram.fit(matriz_vetores_treino_skipgram, artigo_treino[\"category\"])\n",
    "label_prevista_skipgram = LR_skipgram.predict(matriz_vetores_teste_skipgram)\n",
    "CR_skipgram = classification_report(artigo_teste[\"category\"], label_prevista_skipgram)"
   ]
  },
  {
   "cell_type": "code",
   "execution_count": 50,
   "metadata": {},
   "outputs": [
    {
     "name": "stdout",
     "output_type": "stream",
     "text": [
      "-----------|---------SKIP-GRAM CR:---------|-----------\n",
      "               precision    recall  f1-score   support\n",
      "\n",
      "     colunas       0.86      0.72      0.78      6103\n",
      "   cotidiano       0.63      0.81      0.70      1698\n",
      "     esporte       0.93      0.89      0.91      4663\n",
      "   ilustrada       0.15      0.91      0.26       131\n",
      "     mercado       0.84      0.81      0.83      5867\n",
      "       mundo       0.76      0.86      0.80      2051\n",
      "\n",
      "    accuracy                           0.81     20513\n",
      "   macro avg       0.69      0.83      0.71     20513\n",
      "weighted avg       0.84      0.81      0.82     20513\n",
      "\n",
      "-----------|-----------CBOW CR:-----------|-----------\n",
      "               precision    recall  f1-score   support\n",
      "\n",
      "     colunas       0.86      0.71      0.78      6103\n",
      "   cotidiano       0.61      0.79      0.69      1698\n",
      "     esporte       0.92      0.88      0.90      4663\n",
      "   ilustrada       0.13      0.88      0.23       131\n",
      "     mercado       0.84      0.79      0.81      5867\n",
      "       mundo       0.74      0.86      0.79      2051\n",
      "\n",
      "    accuracy                           0.80     20513\n",
      "   macro avg       0.68      0.82      0.70     20513\n",
      "weighted avg       0.83      0.80      0.81     20513\n",
      "\n"
     ]
    }
   ],
   "source": [
    "print(\"-----------|---------SKIP-GRAM CR:---------|-----------\\n\", CR_skipgram)\n",
    "# print(\"\\n-----------|-----------------|-----------------|-----------\\n\")\n",
    "print(\"-----------|-----------CBOW CR:-----------|-----------\\n\", CR)"
   ]
  }
 ],
 "metadata": {
  "kernelspec": {
   "display_name": "Python 3",
   "language": "python",
   "name": "python3"
  },
  "language_info": {
   "codemirror_mode": {
    "name": "ipython",
    "version": 3
   },
   "file_extension": ".py",
   "mimetype": "text/x-python",
   "name": "python",
   "nbconvert_exporter": "python",
   "pygments_lexer": "ipython3",
   "version": "3.11.4"
  }
 },
 "nbformat": 4,
 "nbformat_minor": 2
}
